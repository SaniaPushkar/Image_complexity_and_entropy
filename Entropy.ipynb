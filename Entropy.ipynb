{
 "cells": [
  {
   "cell_type": "markdown",
   "metadata": {},
   "source": [
    "# Entropy and complexity feature definitions"
   ]
  },
  {
   "cell_type": "markdown",
   "metadata": {},
   "source": [
    "This calculation reproduces the results of \"History of art paintings through the lens of entropy and complexity\" Higor Y. D. Sigakia, Matjaz Percb, and Haroldo V. Ribeiro. "
   ]
  },
  {
   "cell_type": "code",
   "execution_count": 97,
   "metadata": {
    "ExecuteTime": {
     "end_time": "2020-03-09T01:02:23.869831Z",
     "start_time": "2020-03-09T01:02:23.768449Z"
    }
   },
   "outputs": [],
   "source": [
    "from PIL import Image\n",
    "from PIL import ImagePalette\n",
    "import cv2\n",
    "import pandas as pd\n",
    "import numpy as np\n",
    "import matplotlib.pyplot as plt\n",
    "import pandas as pd\n",
    "from pathlib import Path\n",
    "import pickle\n",
    "import matplotlib"
   ]
  },
  {
   "cell_type": "code",
   "execution_count": 45,
   "metadata": {
    "ExecuteTime": {
     "end_time": "2020-03-07T04:12:16.399920Z",
     "start_time": "2020-03-07T04:12:16.230712Z"
    }
   },
   "outputs": [],
   "source": [
    "%matplotlib inline\n",
    "%reload_ext autoreload\n",
    "%autoreload 2"
   ]
  },
  {
   "cell_type": "code",
   "execution_count": 46,
   "metadata": {
    "ExecuteTime": {
     "end_time": "2020-03-07T04:12:16.486228Z",
     "start_time": "2020-03-07T04:12:16.409364Z"
    },
    "code_folding": []
   },
   "outputs": [],
   "source": [
    " def display_image(img):\n",
    "    '''\n",
    "    Displays the image loaded from folder in the notebook\n",
    "    input: \n",
    "        img: image name as it appears in the data file \n",
    "    output: image display\n",
    "    '''\n",
    "    myimage = Image.open(img)\n",
    "    \n",
    "    #myimage\n",
    "    \n",
    "    return myimage"
   ]
  },
  {
   "cell_type": "markdown",
   "metadata": {},
   "source": [
    "## Sliding matrices\n",
    "A sliding submatrix of a matrix A is defined the following way. For a matrix A with dimentions (n,m):"
   ]
  },
  {
   "cell_type": "markdown",
   "metadata": {},
   "source": [
    "$$A = \\begin{bmatrix}\n",
    "a_{1,1} & \\cdots & a_{1,m}\\\\\n",
    "\\vdots & \\ddots & \\vdots \\\\\n",
    "a_{n,1} & \\cdots & a_{n,m}\n",
    "\\end{bmatrix}$$\n"
   ]
  },
  {
   "cell_type": "markdown",
   "metadata": {},
   "source": [
    "Then a submatrix A_{i,j} will be defined the following way:"
   ]
  },
  {
   "cell_type": "markdown",
   "metadata": {},
   "source": [
    "$$A_{ij} = \\begin{bmatrix}\n",
    "a_{i,j} & a_{i,j+1}\\\\\n",
    "a_{i+1,j} &  a_{i+1,j+1}\n",
    "\\end{bmatrix}$$"
   ]
  },
  {
   "cell_type": "code",
   "execution_count": 47,
   "metadata": {
    "ExecuteTime": {
     "end_time": "2020-03-07T04:12:17.529723Z",
     "start_time": "2020-03-07T04:12:17.449565Z"
    }
   },
   "outputs": [],
   "source": [
    "def create_sliding_matrices(color_array, height, width):\n",
    "    '''\n",
    "    Computes the array of all sliding 2x2 submatrices from a given matrix.\n",
    "    Input:\n",
    "        color_array: an array of pixel properties (color, intencity, etc). For our case one of the RGB channels is used. \n",
    "        width: int, width of the painting (pixels)\n",
    "        height: int, height of the painting (pixels)\n",
    "    output: \n",
    "        array of matrices 2x2. Shape ((width-1)*(height-1),2,2)\n",
    "        \n",
    "    '''\n",
    "    matrix_array = np.zeros(shape = (height - 1, width - 1, 2, 2))\n",
    "    col_mat = np.array(color_array).astype(int).reshape((height, width))\n",
    "            \n",
    "    for i in range(0, height - 1):\n",
    "        for j in range(0, width - 1):\n",
    "            matrix_array[i, j] = col_mat[np.ix_([i, i + 1],\n",
    "                                                [j, j + 1])].astype(int)\n",
    "    return(matrix_array)"
   ]
  },
  {
   "cell_type": "markdown",
   "metadata": {},
   "source": [
    " ## Matrix permutation distribution"
   ]
  },
  {
   "cell_type": "markdown",
   "metadata": {},
   "source": [
    "A permutation of the elements in the maetrix is the order of the elements of the matrix. Each of the $2\\times2$ matrices produces a permutation."
   ]
  },
  {
   "cell_type": "code",
   "execution_count": 48,
   "metadata": {
    "ExecuteTime": {
     "end_time": "2020-03-07T04:12:18.335047Z",
     "start_time": "2020-03-07T04:12:18.250038Z"
    },
    "code_folding": [
     0
    ]
   },
   "outputs": [],
   "source": [
    "def compute_permutation(matrix):\n",
    "    '''Computes the permutation associated with the 2x2 matrix.\n",
    "    input: \n",
    "        matrix: np.array of a matrix\n",
    "    output: \n",
    "        perm: permutation array with the same length as number of elements in matrix.\n",
    "    '''\n",
    "    permutation = np.argsort(matrix.flatten())\n",
    "    return permutation"
   ]
  },
  {
   "cell_type": "markdown",
   "metadata": {},
   "source": [
    "Permutation of all matrice produce a distribution $P = \\{p_i, i = 0, \\ldots, n\\}$, where $n$ is the number of permutations. Note that for 4 elements there are 24 possible permutations, so $n = 24$."
   ]
  },
  {
   "cell_type": "code",
   "execution_count": 49,
   "metadata": {
    "ExecuteTime": {
     "end_time": "2020-03-07T04:12:18.736018Z",
     "start_time": "2020-03-07T04:12:18.649652Z"
    },
    "code_folding": [
     0
    ]
   },
   "outputs": [],
   "source": [
    "def permutataion_distribution(matrix_list):\n",
    "    '''\n",
    "    Returns the distribution of matrix permutaions.\n",
    "    Input: \n",
    "        matrix_list: the output of sliding_matrix.\n",
    "    output: \n",
    "        num_of_perm: list of numebr of each permutations in order recieved\n",
    "        list_of_perm: list of permutations in order recieved\n",
    "        distribution: distrubution\n",
    "        \n",
    "    '''\n",
    "    list_of_perm = []\n",
    "    num_of_perm = []\n",
    "    distribution = np.zeros(24)\n",
    "    for i in matrix_list:\n",
    "        mat_perm = compute_permutation(np.array(i))\n",
    "        indicator = 0\n",
    "        for j in range(0, len(list_of_perm)):\n",
    "            if np.all(mat_perm == list_of_perm[j]):\n",
    "                num_of_perm[j] = num_of_perm[j] + 1\n",
    "                indicator = 1\n",
    "        if indicator == 0:\n",
    "            list_of_perm.append(mat_perm)\n",
    "            num_of_perm.append(1)\n",
    "            \n",
    "    distribution = np.array(num_of_perm) / sum(num_of_perm)\n",
    "    return num_of_perm, list_of_perm, distribution\n",
    "    "
   ]
  },
  {
   "cell_type": "markdown",
   "metadata": {},
   "source": [
    "## Entropy and complexity"
   ]
  },
  {
   "cell_type": "markdown",
   "metadata": {},
   "source": [
    "Here the two parameters which are evaluated for each painting are defined. First, Shannon Entropy for a distribution is defined the following way:\n",
    "$$\n",
    "S(P) = \\sum_{i = 0}^{n} p_i \\ln{(1/p_i)}\n",
    "$$"
   ]
  },
  {
   "cell_type": "code",
   "execution_count": 50,
   "metadata": {
    "ExecuteTime": {
     "end_time": "2020-03-07T04:12:19.390002Z",
     "start_time": "2020-03-07T04:12:19.306594Z"
    },
    "code_folding": []
   },
   "outputs": [],
   "source": [
    "def compute_entropy(distribution):\n",
    "    '''\n",
    "    Compute normalised Shannon entropy from distribution\n",
    "    '''\n",
    "    Shannon_entropy = -np.sum(distribution * np.log2(distribution))\n",
    "    return Shannon_entropy"
   ]
  },
  {
   "cell_type": "markdown",
   "metadata": {
    "ExecuteTime": {
     "end_time": "2020-03-06T22:33:18.574956Z",
     "start_time": "2020-03-06T22:33:18.562666Z"
    }
   },
   "source": [
    "Normalised Shannon entropy is defined the following way: \n",
    "$$\n",
    "H(P) = \n",
    "\\frac{1}{\\ln{n}} \\sum_{i = 0}^{n} p_i \\ln{(1/p_i)}\n",
    "$$"
   ]
  },
  {
   "cell_type": "code",
   "execution_count": 51,
   "metadata": {
    "ExecuteTime": {
     "end_time": "2020-03-07T04:12:20.170297Z",
     "start_time": "2020-03-07T04:12:20.097146Z"
    },
    "code_folding": []
   },
   "outputs": [],
   "source": [
    "def normalise_entropy(distribution):\n",
    "    '''\n",
    "    Compute normalised Shannon entropy from distribution\n",
    "    '''\n",
    "    Shannon_norm = -np.sum(distribution * np.log2(distribution)) / np.log2(len(distribution))\n",
    "    return Shannon_norm"
   ]
  },
  {
   "cell_type": "markdown",
   "metadata": {},
   "source": [
    "The second parameter, complexity, is defined the following way:\n",
    "\n",
    "$$\n",
    "C(P) = \\frac{D(P, U) H(P)}{D^*}\n",
    "$$\n",
    "\n",
    "$$\n",
    "D(P,U) = S\\left( \\frac{P+U}{2} \\right) - \\frac{S(P)}{2} - \\frac{S(U)}{2}\n",
    "$$\n",
    "\n",
    "$$\n",
    "D^* = \\max_P{D(P,U)} = - \\frac{1}{2} \\left[ \\frac{n+1}{n} \\ln{(n+1)} + \\ln{(n) - 2\\ln{(2n)}} \\right]\n",
    "$$"
   ]
  },
  {
   "cell_type": "code",
   "execution_count": 52,
   "metadata": {
    "ExecuteTime": {
     "end_time": "2020-03-07T04:12:21.013562Z",
     "start_time": "2020-03-07T04:12:20.932444Z"
    },
    "code_folding": []
   },
   "outputs": [],
   "source": [
    "def compute_complexity(distribution):\n",
    "    '''Statistical Complexity from distribution'''\n",
    "    comp = compute_divergence(distribution) * normalise_entropy(distribution) / find_norm_constant(distribution)\n",
    "\n",
    "    return comp"
   ]
  },
  {
   "cell_type": "code",
   "execution_count": 53,
   "metadata": {
    "ExecuteTime": {
     "end_time": "2020-03-07T04:12:21.233031Z",
     "start_time": "2020-03-07T04:12:21.151417Z"
    },
    "code_folding": []
   },
   "outputs": [],
   "source": [
    "def compute_divergence(distribution):\n",
    "    '''Jensen-Shannon divergence'''\n",
    "    n = len(distribution)\n",
    "    uniform = np.array([1/n] * n)\n",
    "    div = compute_entropy((distribution + uniform)/2) - compute_entropy(distribution)/2 - compute_entropy(uniform)/2\n",
    "    return div"
   ]
  },
  {
   "cell_type": "code",
   "execution_count": 54,
   "metadata": {
    "ExecuteTime": {
     "end_time": "2020-03-07T04:12:21.450612Z",
     "start_time": "2020-03-07T04:12:21.374748Z"
    },
    "code_folding": []
   },
   "outputs": [],
   "source": [
    "def find_norm_constant(distribution):\n",
    "    '''Normalisation constant D*'''\n",
    "    n = len(distribution)\n",
    "    const = -0.5 * (((n + 1) / n) * np.log(n + 1) + np.log(n) - 2 * np.log(2 * n))\n",
    "    return const"
   ]
  },
  {
   "cell_type": "code",
   "execution_count": 72,
   "metadata": {
    "ExecuteTime": {
     "end_time": "2020-03-07T04:50:43.568939Z",
     "start_time": "2020-03-07T04:50:43.480719Z"
    },
    "code_folding": []
   },
   "outputs": [],
   "source": [
    "def produce_entropy_complexity(name):\n",
    "    '''\n",
    "    Entropy and complexity computations.\n",
    "    input: \n",
    "        name: input painting name.\n",
    "    output:\n",
    "        Entr\n",
    "    '''\n",
    "    img1 = cv2.imread(name)\n",
    "    myimage = display_image(name)\n",
    "    \n",
    "    painting_width, painting_height = myimage.size\n",
    "    b, g, r = cv2.split(img1)\n",
    "    \n",
    "    b = pd.Series(b.flatten(), dtype='int')\n",
    "    g = pd.Series(g.flatten(), dtype='int')\n",
    "    r = pd.Series(r.flatten(), dtype='int')\n",
    "    \n",
    "    mean_channel = (b + g + r)/3\n",
    "    sliding_matrix = create_sliding_matrices(mean_channel,\n",
    "                                             painting_height,\n",
    "                                             painting_width).reshape(((painting_height - 1) * (painting_width-1),\n",
    "                                             2,\n",
    "                                             2))\n",
    "    res1 = permutataion_distribution(sliding_matrix)\n",
    "    entr = normalise_entropy(res1[2])\n",
    "    compl = compute_complexity(res1[2])\n",
    "\n",
    "    return entr, compl"
   ]
  },
  {
   "cell_type": "code",
   "execution_count": 56,
   "metadata": {
    "ExecuteTime": {
     "end_time": "2020-03-07T04:12:23.040753Z",
     "start_time": "2020-03-07T04:12:22.955472Z"
    }
   },
   "outputs": [],
   "source": [
    "#[x2,y2] = produce_entropy_complexity('cezannne.jpg')"
   ]
  },
  {
   "cell_type": "markdown",
   "metadata": {},
   "source": [
    "# Data Frame"
   ]
  },
  {
   "cell_type": "markdown",
   "metadata": {},
   "source": [
    "The collection of paintings used is from Centenary Exhibition of Impressionists, 1874. The painting images are collected mostly from Wikipedia Commons. The width and the height of the painting are given in cm."
   ]
  },
  {
   "cell_type": "code",
   "execution_count": 57,
   "metadata": {
    "ExecuteTime": {
     "end_time": "2020-03-07T04:12:24.405784Z",
     "start_time": "2020-03-07T04:12:24.090805Z"
    }
   },
   "outputs": [],
   "source": [
    "df = pd.read_excel(r'CentenaryExhibition.xlsx')"
   ]
  },
  {
   "cell_type": "code",
   "execution_count": 58,
   "metadata": {
    "ExecuteTime": {
     "end_time": "2020-03-07T04:12:24.591377Z",
     "start_time": "2020-03-07T04:12:24.482735Z"
    }
   },
   "outputs": [
    {
     "data": {
      "text/html": [
       "<div>\n",
       "<style scoped>\n",
       "    .dataframe tbody tr th:only-of-type {\n",
       "        vertical-align: middle;\n",
       "    }\n",
       "\n",
       "    .dataframe tbody tr th {\n",
       "        vertical-align: top;\n",
       "    }\n",
       "\n",
       "    .dataframe thead th {\n",
       "        text-align: right;\n",
       "    }\n",
       "</style>\n",
       "<table border=\"1\" class=\"dataframe\">\n",
       "  <thead>\n",
       "    <tr style=\"text-align: right;\">\n",
       "      <th></th>\n",
       "      <th>Author name</th>\n",
       "      <th>Painting name</th>\n",
       "      <th>year</th>\n",
       "      <th>file name</th>\n",
       "      <th>width</th>\n",
       "      <th>height</th>\n",
       "      <th>url</th>\n",
       "      <th>Unnamed: 7</th>\n",
       "    </tr>\n",
       "  </thead>\n",
       "  <tbody>\n",
       "    <tr>\n",
       "      <th>0</th>\n",
       "      <td>Frederic Bazille</td>\n",
       "      <td>View of the Village</td>\n",
       "      <td>1868</td>\n",
       "      <td>Bazille,_Frederic___View_of_the_Village,_1868.jpg</td>\n",
       "      <td>85.00</td>\n",
       "      <td>137.50</td>\n",
       "      <td>https://commons.wikimedia.org/wiki/File:Bazill...</td>\n",
       "      <td>NaN</td>\n",
       "    </tr>\n",
       "    <tr>\n",
       "      <th>1</th>\n",
       "      <td>Eugene Boudin</td>\n",
       "      <td>The Coast Near Portrieux</td>\n",
       "      <td>1874</td>\n",
       "      <td>Eugene_Boudin_-_Rivage_de_Portrieux_(Cotes-du-...</td>\n",
       "      <td>85.00</td>\n",
       "      <td>148.00</td>\n",
       "      <td>https://commons.wikimedia.org/wiki/File:Eug%C3...</td>\n",
       "      <td>NaN</td>\n",
       "    </tr>\n",
       "    <tr>\n",
       "      <th>2</th>\n",
       "      <td>Gustave Caillebotte</td>\n",
       "      <td>Boulevard Seen from Above</td>\n",
       "      <td>1880</td>\n",
       "      <td>Boulevard_Seen_from_Above.jpg</td>\n",
       "      <td>54.00</td>\n",
       "      <td>65.00</td>\n",
       "      <td>https://www.reddit.com/r/museum/comments/5ndw1...</td>\n",
       "      <td>NaN</td>\n",
       "    </tr>\n",
       "    <tr>\n",
       "      <th>3</th>\n",
       "      <td>Mary Cassat</td>\n",
       "      <td>A Woman in Black at the Opera</td>\n",
       "      <td>1978</td>\n",
       "      <td>Mary_Stevenson_Cassatt_-_In_the_Loge_-_Google_...</td>\n",
       "      <td>66.04</td>\n",
       "      <td>81.28</td>\n",
       "      <td>https://commons.wikimedia.org/wiki/File:Mary_S...</td>\n",
       "      <td>NaN</td>\n",
       "    </tr>\n",
       "    <tr>\n",
       "      <th>4</th>\n",
       "      <td>Paul Cezanne</td>\n",
       "      <td>The Black Clock</td>\n",
       "      <td>1870</td>\n",
       "      <td>La_Pendule_noire,_par_Paul_Cezanne.jpg</td>\n",
       "      <td>73.00</td>\n",
       "      <td>54.00</td>\n",
       "      <td>https://commons.wikimedia.org/wiki/File:La_Pen...</td>\n",
       "      <td>NaN</td>\n",
       "    </tr>\n",
       "  </tbody>\n",
       "</table>\n",
       "</div>"
      ],
      "text/plain": [
       "          Author name                   Painting name  year  \\\n",
       "0    Frederic Bazille             View of the Village  1868   \n",
       "1        Eugene Boudin       The Coast Near Portrieux  1874   \n",
       "2  Gustave Caillebotte      Boulevard Seen from Above  1880   \n",
       "3          Mary Cassat  A Woman in Black at the Opera  1978   \n",
       "4         Paul Cezanne                The Black Clock  1870   \n",
       "\n",
       "                                           file name  width  height  \\\n",
       "0  Bazille,_Frederic___View_of_the_Village,_1868.jpg  85.00  137.50   \n",
       "1  Eugene_Boudin_-_Rivage_de_Portrieux_(Cotes-du-...  85.00  148.00   \n",
       "2                      Boulevard_Seen_from_Above.jpg  54.00   65.00   \n",
       "3  Mary_Stevenson_Cassatt_-_In_the_Loge_-_Google_...  66.04   81.28   \n",
       "4             La_Pendule_noire,_par_Paul_Cezanne.jpg  73.00   54.00   \n",
       "\n",
       "                                                 url Unnamed: 7  \n",
       "0  https://commons.wikimedia.org/wiki/File:Bazill...        NaN  \n",
       "1  https://commons.wikimedia.org/wiki/File:Eug%C3...        NaN  \n",
       "2  https://www.reddit.com/r/museum/comments/5ndw1...        NaN  \n",
       "3  https://commons.wikimedia.org/wiki/File:Mary_S...        NaN  \n",
       "4  https://commons.wikimedia.org/wiki/File:La_Pen...        NaN  "
      ]
     },
     "execution_count": 58,
     "metadata": {},
     "output_type": "execute_result"
    }
   ],
   "source": [
    "df.head()"
   ]
  },
  {
   "cell_type": "code",
   "execution_count": 59,
   "metadata": {
    "ExecuteTime": {
     "end_time": "2020-03-07T04:12:25.201996Z",
     "start_time": "2020-03-07T04:12:25.117014Z"
    }
   },
   "outputs": [
    {
     "data": {
      "text/plain": [
       "array(['Alfred Sisley', 'Berthe Morisot', 'Camille Pissarro',\n",
       "       'Claude Monet', 'Edgar Degas', 'Edouard Manet', 'Eugene Boudin',\n",
       "       'Frederic Bazille ', 'Gustave Caillebotte', 'Mary Cassat',\n",
       "       'Paul Cezanne', 'Pierre Auguste Renoir'], dtype=object)"
      ]
     },
     "execution_count": 59,
     "metadata": {},
     "output_type": "execute_result"
    }
   ],
   "source": [
    "np.unique(df['Author name '])"
   ]
  },
  {
   "cell_type": "code",
   "execution_count": 60,
   "metadata": {
    "ExecuteTime": {
     "end_time": "2020-03-07T04:12:26.139513Z",
     "start_time": "2020-03-07T04:12:26.066491Z"
    }
   },
   "outputs": [],
   "source": [
    "entropy_list = np.zeros(len(df))\n",
    "complexity_list = np.zeros(len(df))"
   ]
  },
  {
   "cell_type": "code",
   "execution_count": 62,
   "metadata": {
    "ExecuteTime": {
     "end_time": "2020-03-07T04:35:10.734765Z",
     "start_time": "2020-03-07T04:25:44.459909Z"
    }
   },
   "outputs": [],
   "source": [
    "x = produce_entropy_complexity('data_1/' + df['file name'][0])"
   ]
  },
  {
   "cell_type": "code",
   "execution_count": 69,
   "metadata": {
    "ExecuteTime": {
     "end_time": "2020-03-07T04:47:26.697666Z",
     "start_time": "2020-03-07T04:38:34.204636Z"
    }
   },
   "outputs": [],
   "source": [
    "[entropy_list[0], complexity_list[0]] = produce_entropy_complexity('data_1/' + df['file name'][0])"
   ]
  },
  {
   "cell_type": "code",
   "execution_count": 73,
   "metadata": {
    "ExecuteTime": {
     "end_time": "2020-03-08T22:32:15.464738Z",
     "start_time": "2020-03-08T22:32:14.957780Z"
    }
   },
   "outputs": [],
   "source": [
    "file_name = 'entropy_output_200308.txt'\n",
    "my_file = Path(file_name)\n",
    "if my_file.is_file():\n",
    "     with open(file_name, \"rb\") as f:\n",
    "        ec_df = pickle.load(f)"
   ]
  },
  {
   "cell_type": "code",
   "execution_count": 77,
   "metadata": {
    "ExecuteTime": {
     "end_time": "2020-03-09T00:54:52.464614Z",
     "start_time": "2020-03-09T00:54:52.365635Z"
    }
   },
   "outputs": [],
   "source": [
    "df['Entropy'] = ec_df[0]\n",
    "df['Complexity'] = ec_df[1]"
   ]
  },
  {
   "cell_type": "code",
   "execution_count": 98,
   "metadata": {
    "ExecuteTime": {
     "end_time": "2020-03-09T01:02:29.450229Z",
     "start_time": "2020-03-09T01:02:29.362984Z"
    }
   },
   "outputs": [],
   "source": [
    "colors = matplotlib.cm.rainbow(np.linspace(np.min(df['year']), np.max(df['year']), 10))"
   ]
  },
  {
   "cell_type": "code",
   "execution_count": 115,
   "metadata": {
    "ExecuteTime": {
     "end_time": "2020-03-09T01:12:22.543206Z",
     "start_time": "2020-03-09T01:12:22.387035Z"
    }
   },
   "outputs": [
    {
     "name": "stderr",
     "output_type": "stream",
     "text": [
      "/Users/alexandrapushkar/anaconda3/lib/python3.6/site-packages/ipykernel_launcher.py:2: SettingWithCopyWarning: \n",
      "A value is trying to be set on a copy of a slice from a DataFrame\n",
      "\n",
      "See the caveats in the documentation: http://pandas.pydata.org/pandas-docs/stable/indexing.html#indexing-view-versus-copy\n",
      "  \n"
     ]
    }
   ],
   "source": [
    "# fix typo\n",
    "df['year'][3] = 1878"
   ]
  },
  {
   "cell_type": "code",
   "execution_count": 133,
   "metadata": {
    "ExecuteTime": {
     "end_time": "2020-03-09T20:23:01.710134Z",
     "start_time": "2020-03-09T20:23:01.573242Z"
    }
   },
   "outputs": [
    {
     "data": {
      "text/html": [
       "<div>\n",
       "<style scoped>\n",
       "    .dataframe tbody tr th:only-of-type {\n",
       "        vertical-align: middle;\n",
       "    }\n",
       "\n",
       "    .dataframe tbody tr th {\n",
       "        vertical-align: top;\n",
       "    }\n",
       "\n",
       "    .dataframe thead th {\n",
       "        text-align: right;\n",
       "    }\n",
       "</style>\n",
       "<table border=\"1\" class=\"dataframe\">\n",
       "  <thead>\n",
       "    <tr style=\"text-align: right;\">\n",
       "      <th></th>\n",
       "      <th>Author name</th>\n",
       "      <th>Painting name</th>\n",
       "      <th>year</th>\n",
       "      <th>file name</th>\n",
       "      <th>width</th>\n",
       "      <th>height</th>\n",
       "      <th>url</th>\n",
       "      <th>Unnamed: 7</th>\n",
       "      <th>Entropy</th>\n",
       "      <th>Complexity</th>\n",
       "    </tr>\n",
       "  </thead>\n",
       "  <tbody>\n",
       "    <tr>\n",
       "      <th>0</th>\n",
       "      <td>Frederic Bazille</td>\n",
       "      <td>View of the Village</td>\n",
       "      <td>1868</td>\n",
       "      <td>Bazille,_Frederic___View_of_the_Village,_1868.jpg</td>\n",
       "      <td>85.00</td>\n",
       "      <td>137.50</td>\n",
       "      <td>https://commons.wikimedia.org/wiki/File:Bazill...</td>\n",
       "      <td>NaN</td>\n",
       "      <td>0.901997</td>\n",
       "      <td>0.176790</td>\n",
       "    </tr>\n",
       "    <tr>\n",
       "      <th>1</th>\n",
       "      <td>Eugene Boudin</td>\n",
       "      <td>The Coast Near Portrieux</td>\n",
       "      <td>1874</td>\n",
       "      <td>Eugene_Boudin_-_Rivage_de_Portrieux_(Cotes-du-...</td>\n",
       "      <td>85.00</td>\n",
       "      <td>148.00</td>\n",
       "      <td>https://commons.wikimedia.org/wiki/File:Eug%C3...</td>\n",
       "      <td>NaN</td>\n",
       "      <td>0.985827</td>\n",
       "      <td>0.026113</td>\n",
       "    </tr>\n",
       "    <tr>\n",
       "      <th>2</th>\n",
       "      <td>Gustave Caillebotte</td>\n",
       "      <td>Boulevard Seen from Above</td>\n",
       "      <td>1880</td>\n",
       "      <td>Boulevard_Seen_from_Above.jpg</td>\n",
       "      <td>54.00</td>\n",
       "      <td>65.00</td>\n",
       "      <td>https://www.reddit.com/r/museum/comments/5ndw1...</td>\n",
       "      <td>NaN</td>\n",
       "      <td>0.991048</td>\n",
       "      <td>0.017010</td>\n",
       "    </tr>\n",
       "    <tr>\n",
       "      <th>3</th>\n",
       "      <td>Mary Cassat</td>\n",
       "      <td>A Woman in Black at the Opera</td>\n",
       "      <td>1878</td>\n",
       "      <td>Mary_Stevenson_Cassatt_-_In_the_Loge_-_Google_...</td>\n",
       "      <td>66.04</td>\n",
       "      <td>81.28</td>\n",
       "      <td>https://commons.wikimedia.org/wiki/File:Mary_S...</td>\n",
       "      <td>NaN</td>\n",
       "      <td>0.944783</td>\n",
       "      <td>0.101581</td>\n",
       "    </tr>\n",
       "    <tr>\n",
       "      <th>4</th>\n",
       "      <td>Paul Cezanne</td>\n",
       "      <td>The Black Clock</td>\n",
       "      <td>1870</td>\n",
       "      <td>La_Pendule_noire,_par_Paul_Cezanne.jpg</td>\n",
       "      <td>73.00</td>\n",
       "      <td>54.00</td>\n",
       "      <td>https://commons.wikimedia.org/wiki/File:La_Pen...</td>\n",
       "      <td>NaN</td>\n",
       "      <td>0.857090</td>\n",
       "      <td>0.229616</td>\n",
       "    </tr>\n",
       "  </tbody>\n",
       "</table>\n",
       "</div>"
      ],
      "text/plain": [
       "          Author name                   Painting name  year  \\\n",
       "0    Frederic Bazille             View of the Village  1868   \n",
       "1        Eugene Boudin       The Coast Near Portrieux  1874   \n",
       "2  Gustave Caillebotte      Boulevard Seen from Above  1880   \n",
       "3          Mary Cassat  A Woman in Black at the Opera  1878   \n",
       "4         Paul Cezanne                The Black Clock  1870   \n",
       "\n",
       "                                           file name  width  height  \\\n",
       "0  Bazille,_Frederic___View_of_the_Village,_1868.jpg  85.00  137.50   \n",
       "1  Eugene_Boudin_-_Rivage_de_Portrieux_(Cotes-du-...  85.00  148.00   \n",
       "2                      Boulevard_Seen_from_Above.jpg  54.00   65.00   \n",
       "3  Mary_Stevenson_Cassatt_-_In_the_Loge_-_Google_...  66.04   81.28   \n",
       "4             La_Pendule_noire,_par_Paul_Cezanne.jpg  73.00   54.00   \n",
       "\n",
       "                                                 url Unnamed: 7   Entropy  \\\n",
       "0  https://commons.wikimedia.org/wiki/File:Bazill...        NaN  0.901997   \n",
       "1  https://commons.wikimedia.org/wiki/File:Eug%C3...        NaN  0.985827   \n",
       "2  https://www.reddit.com/r/museum/comments/5ndw1...        NaN  0.991048   \n",
       "3  https://commons.wikimedia.org/wiki/File:Mary_S...        NaN  0.944783   \n",
       "4  https://commons.wikimedia.org/wiki/File:La_Pen...        NaN  0.857090   \n",
       "\n",
       "   Complexity  \n",
       "0    0.176790  \n",
       "1    0.026113  \n",
       "2    0.017010  \n",
       "3    0.101581  \n",
       "4    0.229616  "
      ]
     },
     "execution_count": 133,
     "metadata": {},
     "output_type": "execute_result"
    }
   ],
   "source": [
    "df.head()"
   ]
  },
  {
   "cell_type": "code",
   "execution_count": 132,
   "metadata": {
    "ExecuteTime": {
     "end_time": "2020-03-09T20:22:08.809859Z",
     "start_time": "2020-03-09T20:22:07.209782Z"
    }
   },
   "outputs": [
    {
     "data": {
      "image/png": "[encoded data removed]",
      "text/plain": [
       "<Figure size 864x720 with 2 Axes>"
      ]
     },
     "metadata": {
      "needs_background": "light"
     },
     "output_type": "display_data"
    }
   ],
   "source": [
    "plt.figure(figsize = (12,10))\n",
    "\n",
    "plt.xlabel('Entropy', fontsize = 30)\n",
    "plt.ylabel('Complexity', fontsize = 30)\n",
    "\n",
    "plt.scatter(df['Entropy'], df['Complexity'], c = df['year'], cmap=plt.cm.copper, s = 200)\n",
    "cbar= plt.colorbar()\n",
    "cbar.set_label(\"Year\", labelpad=+1, fontsize = 20)"
   ]
  },
  {
   "cell_type": "markdown",
   "metadata": {},
   "source": [
    "# Machine Learning"
   ]
  },
  {
   "cell_type": "code",
   "execution_count": null,
   "metadata": {},
   "outputs": [],
   "source": []
  }
 ],
 "metadata": {
  "kernelspec": {
   "display_name": "Python 3",
   "language": "python",
   "name": "python3"
  },
  "language_info": {
   "codemirror_mode": {
    "name": "ipython",
    "version": 3
   },
   "file_extension": ".py",
   "mimetype": "text/x-python",
   "name": "python",
   "nbconvert_exporter": "python",
   "pygments_lexer": "ipython3",
   "version": "3.6.8"
  },
  "toc": {
   "base_numbering": 1,
   "nav_menu": {},
   "number_sections": true,
   "sideBar": true,
   "skip_h1_title": false,
   "title_cell": "Table of Contents",
   "title_sidebar": "Contents",
   "toc_cell": false,
   "toc_position": {},
   "toc_section_display": true,
   "toc_window_display": true
  }
 },
 "nbformat": 4,
 "nbformat_minor": 2
}
